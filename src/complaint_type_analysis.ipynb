{
 "cells": [
  {
   "cell_type": "markdown",
   "id": "793a19f1",
   "metadata": {},
   "source": [
    "# Complaint Type Analysis"
   ]
  },
  {
   "cell_type": "code",
   "execution_count": null,
   "id": "0fa017d2",
   "metadata": {},
   "outputs": [
    {
     "ename": "",
     "evalue": "",
     "output_type": "error",
     "traceback": [
      "\u001b[1;31mRunning cells with 'base (Python 3.13.5)' requires the ipykernel package.\n",
      "\u001b[1;31m<a href='command:jupyter.createPythonEnvAndSelectController'>Create a Python Environment</a> with the required packages.\n",
      "\u001b[1;31mOr install 'ipykernel' using the command: 'conda install -n base ipykernel --update-deps --force-reinstall'"
     ]
    }
   ],
   "source": [
    "import matplotlib.pyplot as plt\n",
    "\n",
    "months = ['January-February', 'June-July']\n",
    "occurences = [505529, 498576]\n",
    "\n",
    "plt.bar(months, occurences)\n",
    "plt.title('Illegal Parking')\n",
    "plt.xlabel('Months')\n",
    "plt.ylabel('Occurences')\n",
    "\n",
    "plt.show()"
   ]
  }
 ],
 "metadata": {
  "kernelspec": {
   "display_name": "base",
   "language": "python",
   "name": "python3"
  },
  "language_info": {
   "name": "python",
   "version": "3.13.5"
  }
 },
 "nbformat": 4,
 "nbformat_minor": 5
}
