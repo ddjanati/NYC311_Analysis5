{
 "cells": [
  {
   "cell_type": "markdown",
   "id": "793a19f1",
   "metadata": {},
   "source": [
    "# Complaint Type Analysis"
   ]
  },
  {
   "cell_type": "code",
   "execution_count": null,
   "id": "0fa017d2",
   "metadata": {
    "vscode": {
     "languageId": "plaintext"
    }
   },
   "outputs": [],
   "source": [
    "import matplotlib.pyplot as plt\n",
    "\n",
    "months = ['January-February', 'June-July']\n",
    "occurences = [505529, 498576]\n",
    "\n",
    "plt.bar(months, occurences)\n",
    "plt.title('Illegal Parking')\n",
    "plt.xlabel('Months')\n",
    "plt.ylabel('Occurences')\n",
    "\n",
    "plt.show()"
   ]
  }
 ],
 "metadata": {
  "language_info": {
   "name": "python"
  }
 },
 "nbformat": 4,
 "nbformat_minor": 5
}
