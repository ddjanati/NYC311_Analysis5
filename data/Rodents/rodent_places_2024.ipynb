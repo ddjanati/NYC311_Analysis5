{
 "cells": [
  {
   "cell_type": "markdown",
   "id": "2d5c7e6a",
   "metadata": {},
   "source": [
    "# Sighting Locations of Rats and Mice in NYC (2024)"
   ]
  },
  {
   "cell_type": "code",
   "execution_count": null,
   "id": "2c87627b",
   "metadata": {},
   "outputs": [],
   "source": [
    "import matplotlib.pyplot as plt\n",
    "\n",
    "places = ['Apartment Buildings', 'Food Establishments', 'Streets']\n",
    "complaints = [8760, 3971, 1394]\n",
    "\n",
    "plt.bar(places, complaints, width=0.5, color='#beb1cc')\n",
    "plt.title('Sighting Locations of Rats and Mice in NYC (2024)')\n",
    "plt.ylabel('Number of complaints')\n",
    "\n",
    "plt.show()"
   ]
  }
 ],
 "metadata": {
  "kernelspec": {
   "display_name": "base",
   "language": "python",
   "name": "python3"
  },
  "language_info": {
   "name": "python",
   "version": "3.13.5"
  }
 },
 "nbformat": 4,
 "nbformat_minor": 5
}
