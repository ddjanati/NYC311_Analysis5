{
 "cells": [
  {
   "cell_type": "markdown",
   "id": "3ec01412",
   "metadata": {},
   "source": [
    "# Causes of Noise Complaints in Manhattan, Brooklyn and the Bronx (2024)"
   ]
  },
  {
   "cell_type": "code",
   "execution_count": null,
   "id": "61a951f9",
   "metadata": {},
   "outputs": [
    {
     "ename": "",
     "evalue": "",
     "output_type": "error",
     "traceback": [
      "\u001b[1;31mRunning cells with 'base (Python 3.13.5)' requires the ipykernel package.\n",
      "\u001b[1;31m<a href='command:jupyter.createPythonEnvAndSelectController'>Create a Python Environment</a> with the required packages.\n",
      "\u001b[1;31mOr install 'ipykernel' using the command: 'conda install -n base ipykernel --update-deps --force-reinstall'"
     ]
    }
   ],
   "source": [
    "import matplotlib.pyplot as plt\n",
    "import numpy as np\n",
    "\n",
    "boroughs = ['Manhattan', 'Brooklyn', 'Bronx']\n",
    "y1 = [62858, 94149, 143267]\n",
    "y2 = [22627, 22734, 7502]\n",
    "\n",
    "x = np.arange(len(boroughs))\n",
    "w = 0.4\n",
    "\n",
    "fig, ax = plt.subplots()\n",
    "ax.bar(x - w/2, y1, width=w, label = 'Residential', color='#f18888')\n",
    "ax.bar(x + w/2, y2, width=w, label = 'Commercial', color='#87ceeb')\n",
    "\n",
    "ax.set_title('Causes of Noise Complaints in Manhattan, Brooklyn and the Bronx (2024)')\n",
    "ax.set_ylabel('Number of complaints')\n",
    "ax.set_xticks(x)\n",
    "ax.set_xticklabels(boroughs)\n",
    "ax.legend()\n",
    "\n",
    "plt.show()"
   ]
  }
 ],
 "metadata": {
  "kernelspec": {
   "display_name": "base",
   "language": "python",
   "name": "python3"
  },
  "language_info": {
   "name": "python",
   "version": "3.13.5"
  }
 },
 "nbformat": 4,
 "nbformat_minor": 5
}
